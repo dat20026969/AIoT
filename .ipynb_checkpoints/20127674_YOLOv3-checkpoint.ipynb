{
 "cells": [
  {
   "cell_type": "code",
   "execution_count": 13,
   "id": "60867bbc",
   "metadata": {},
   "outputs": [],
   "source": [
    "import cv2\n",
    "import urllib.request\n",
    "import numpy as np\n",
    "import time\n",
    "import socket\n",
    "\n",
    "# Cấu hình đường dẫn tới các file\n",
    "modelConfig = 'C:/Users/dat20/OneDrive/Desktop/20127674/yolov3.cfg'\n",
    "modelWeights = 'C:/Users/dat20/OneDrive/Desktop/20127674/yolov3.weights'\n",
    "labelsPath = 'C:/Users/dat20/OneDrive/Desktop/20127674/coco.names'\n",
    "labels = open(labelsPath).read().strip().split('\\n')\n",
    "\n",
    "# Load YOLO model\n",
    "net = cv2.dnn.readNetFromDarknet(modelConfig, modelWeights)\n",
    "ln = net.getLayerNames()\n",
    "ln = [ln[i - 1] for i in net.getUnconnectedOutLayers().flatten()]"
   ]
  },
  {
   "cell_type": "code",
   "execution_count": 14,
   "id": "46dc95eb",
   "metadata": {},
   "outputs": [],
   "source": [
    "def detect_objects(image):\n",
    "    blob = cv2.dnn.blobFromImage(image, 1 / 255.0, (416, 416), swapRB=True, crop=False)\n",
    "    net.setInput(blob)\n",
    "    layerOutputs = net.forward(ln)\n",
    "    \n",
    "    boxes = []\n",
    "    confidences = []\n",
    "    classIDs = []\n",
    "    for output in layerOutputs:\n",
    "        for detection in output:\n",
    "            scores = detection[5:]\n",
    "            classID = np.argmax(scores)\n",
    "            confidence = scores[classID]\n",
    "            if confidence > 0.5: # bạn có thể thay đổi ngưỡng này\n",
    "                box = detection[0:4] * np.array([image.shape[1], image.shape[0], image.shape[1], image.shape[0]])\n",
    "                (centerX, centerY, width, height) = box.astype(\"int\")\n",
    "                x = int(centerX - (width / 2))\n",
    "                y = int(centerY - (height / 2))\n",
    "                boxes.append([x, y, int(width), int(height)])\n",
    "                confidences.append(float(confidence))\n",
    "                classIDs.append(classID)\n",
    "                \n",
    "    idxs = cv2.dnn.NMSBoxes(boxes, confidences, 0.5, 0.3) # bạn cũng có thể điều chỉnh các ngưỡng này\n",
    "\n",
    "    if len(idxs) > 0:\n",
    "        for i in idxs.flatten():\n",
    "            (x, y) = (boxes[i][0], boxes[i][1])\n",
    "            (w, h) = (boxes[i][2], boxes[i][3])\n",
    "            color = [int(c) for c in np.random.randint(0, 255, size=(3,))]\n",
    "            cv2.rectangle(image, (x, y), (x + w, y + h), color, 2)\n",
    "            text = \"{}: {:.4f}\".format(labels[classIDs[i]], confidences[i])\n",
    "            cv2.putText(image, text, (x, y - 5), cv2.FONT_HERSHEY_SIMPLEX, 0.5, color, 2)\n",
    "    return image"
   ]
  },
  {
   "cell_type": "code",
   "execution_count": 15,
   "id": "9b7e6679",
   "metadata": {},
   "outputs": [],
   "source": [
    "url = 'http://192.168.1.13/cam-hi.jpg'\n",
    "save_folder = 'C:/Users/dat20/OneDrive/Desktop/20127674/'\n",
    "\n",
    "while True:\n",
    "    # Get the image from the Arduino server\n",
    "    img_resp = urllib.request.urlopen(url)\n",
    "    imgnp = np.array(bytearray(img_resp.read()), dtype=np.uint8)\n",
    "    im = cv2.imdecode(imgnp, -1)\n",
    "\n",
    "    # Detect objects in the image\n",
    "    im_with_objects = detect_objects(im)\n",
    "\n",
    "    # Save the detected image to the folder\n",
    "    timestamp = time.strftime(\"%Y-%m-%d_%H-%M-%S\")\n",
    "    save_path = save_folder + f\"detected_{timestamp}.jpg\"\n",
    "    cv2.imwrite(save_path, im_with_objects)\n",
    "\n",
    "    # Display the image\n",
    "    cv2.imshow('live Cam Testing', im_with_objects)\n",
    "    key = cv2.waitKey(5)\n",
    "    if key == ord('q'):\n",
    "        break\n",
    "    \n",
    "    # Wait for 5 seconds\n",
    "    time.sleep(0)\n",
    "\n",
    "cv2.destroyAllWindows()"
   ]
  }
 ],
 "metadata": {
  "kernelspec": {
   "display_name": "Python 3 (ipykernel)",
   "language": "python",
   "name": "python3"
  },
  "language_info": {
   "codemirror_mode": {
    "name": "ipython",
    "version": 3
   },
   "file_extension": ".py",
   "mimetype": "text/x-python",
   "name": "python",
   "nbconvert_exporter": "python",
   "pygments_lexer": "ipython3",
   "version": "3.10.10"
  }
 },
 "nbformat": 4,
 "nbformat_minor": 5
}
