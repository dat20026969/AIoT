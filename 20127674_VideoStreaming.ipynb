{
 "cells": [
  {
   "cell_type": "code",
   "execution_count": 2,
   "id": "cafd2afe",
   "metadata": {},
   "outputs": [],
   "source": [
    "import cv2\n",
    "import urllib.request\n",
    "import numpy as np\n",
    "\n",
    "# Replace the URL with the IP camera's stream URL\n",
    "url = 'http://192.168.1.13/cam-hi.jpg'\n",
    "cv2.namedWindow(\"live Cam Testing\", cv2.WINDOW_AUTOSIZE)\n",
    "\n",
    "\n",
    "# Create a VideoCapture object\n",
    "cap = cv2.VideoCapture(url)\n",
    "\n",
    "# Check if the IP camera stream is opened successfully\n",
    "if not cap.isOpened():\n",
    "    print(\"Failed to open the IP camera stream\")\n",
    "    exit()\n",
    "\n",
    "# Read and display video frames\n",
    "while True:\n",
    "    # Read a frame from the video stream\n",
    "    img_resp=urllib.request.urlopen(url)\n",
    "    imgnp=np.array(bytearray(img_resp.read()),dtype=np.uint8)\n",
    "    #ret, frame = cap.read()\n",
    "    im = cv2.imdecode(imgnp,-1)\n",
    "\n",
    "    cv2.imshow('live Cam Testing',im)\n",
    "    key=cv2.waitKey(5)\n",
    "    if key==ord('q'):\n",
    "        break\n",
    "    \n",
    "\n",
    "cap.release()\n",
    "cv2.destroyAllWindows()"
   ]
  },
  {
   "cell_type": "code",
   "execution_count": null,
   "id": "e2d4a200",
   "metadata": {},
   "outputs": [],
   "source": []
  }
 ],
 "metadata": {
  "kernelspec": {
   "display_name": "Python 3 (ipykernel)",
   "language": "python",
   "name": "python3"
  },
  "language_info": {
   "codemirror_mode": {
    "name": "ipython",
    "version": 3
   },
   "file_extension": ".py",
   "mimetype": "text/x-python",
   "name": "python",
   "nbconvert_exporter": "python",
   "pygments_lexer": "ipython3",
   "version": "3.10.10"
  }
 },
 "nbformat": 4,
 "nbformat_minor": 5
}
